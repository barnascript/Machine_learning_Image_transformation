{
 "cells": [
  {
   "cell_type": "markdown",
   "id": "b51649e7",
   "metadata": {},
   "source": [
    "# Goals\n",
    "\n",
    "* I learnt how to apply different geometric transformations to images, like translation, rotation, affine transformation etc.\n",
    "* You will see these functions: cv.getPerspectiveTransform\n",
    "\n",
    "## Transformations\n",
    "\n",
    "OpenCV provides two transformation functions, cv.warpAffine and cv.warpPerspective, with which you can perform all kinds of transformations. cv.warpAffine takes a 2x3 transformation matrix while cv.warpPerspective takes a 3x3 transformation matrix as input.\n",
    "\n",
    "## Scaling\n",
    "\n",
    "Scaling is just resizing of the image. OpenCV comes with a function cv.resize() for this purpose. The size of the image can be specified manually, or you can specify the scaling factor. Different interpolation methods are used. Preferable interpolation methods are cv.INTER_AREA for shrinking and cv.INTER_CUBIC (slow) & cv.INTER_LINEAR for zooming. By default, the interpolation method cv.INTER_LINEAR is used for all resizing purposes. You can resize an input image with either of following methods:"
   ]
  },
  {
   "cell_type": "code",
   "execution_count": null,
   "id": "4ea0e5e5",
   "metadata": {},
   "outputs": [],
   "source": [
    "import cv2 as cv\n",
    "import numpy as np\n",
    "\n",
    "image = cv.imread(\"pexels-photo-769772.webp\")\n",
    "assert image is not None, \"file could not be read, check with os.path exists()\"\n",
    "\n",
    "res = cv.resize(image,None, fx=2, fy=2, interpolation=cv.INTER_CUBIC)\n",
    "\n",
    "cv.imshow(\"img\", res)\n",
    "cv.waitKey(0)\n",
    "cv.destroyAllWindows()\n",
    "\n",
    "#OR\n",
    "\n",
    "# height, width = image.shape[:2]\n",
    "# res = cv.resize(image, (width * 2), (height * 2), interpolation = INTER_CUBIC)\n",
    "\n"
   ]
  },
  {
   "cell_type": "markdown",
   "id": "081f46b3",
   "metadata": {},
   "source": [
    "# Translation\n",
    "\n",
    "Translation is the shifting of an object's location. If you know the shift in the (x,y) direction and let it be , you can create the transformation matrix  as follows:\n",
    "\n",
    " \n",
    "\n",
    "You can take make it into a Numpy array of type np.float32 and pass it into the cv.warpAffine() function. See the below example for a shift of (100,50):"
   ]
  },
  {
   "cell_type": "code",
   "execution_count": null,
   "id": "f6478650",
   "metadata": {},
   "outputs": [],
   "source": [
    "img = cv.imread(\"pexels-photo-769772.webp\", cv.IMREAD_GRAYSCALE)\n",
    "assert img is not None, \"file could not be read, check with os.path exists()\"\n",
    "\n",
    "rows, cols = img.shape\n",
    "\n",
    "M = np.float32([[1, 0, 100], [0, 1, 50]])\n",
    "dst = cv.warpAffine(img,M, (cols, rows))\n",
    "\n",
    "\n",
    "cv.imshow('img', dst)\n",
    "cv.waitKey(0)\n",
    "cv.destroyAllWindows()"
   ]
  },
  {
   "cell_type": "markdown",
   "id": "dd5da327",
   "metadata": {},
   "source": [
    "### warning\n",
    "\n",
    "The third argument of the cv.warpAffine() function is the size of the output image, which should be in the form of **(width, height)**. Remember width = number of columns, and height = number of rows."
   ]
  },
  {
   "cell_type": "markdown",
   "id": "6eaedfb9",
   "metadata": {},
   "source": [
    "# Rotation\n",
    "\n",
    "Rotation of an image for an angle  is achieved by the transformation matrix of the form\n",
    "\n",
    " \n",
    "\n",
    "To find this transformation matrix, OpenCV provides a function, `cv.getRotationMatrix2D`. Check out the below example which rotates the image by 90 degree with respect to center without any scaling.\n",
    "\n"
   ]
  },
  {
   "cell_type": "code",
   "execution_count": null,
   "id": "59d7e70c",
   "metadata": {},
   "outputs": [],
   "source": [
    "img = cv.imread('dd.jpg', cv.IMREAD_GRAYSCALE)\n",
    "assert img is not None, \"file could not be read, check with os.path.exists()\"\n",
    "rows,cols = img.shape\n",
    " \n",
    "# cols-1 and rows-1 are the coordinate limits.\n",
    "M = cv.getRotationMatrix2D(((cols-1)/2.0,(rows-1)/2.0),90,1)\n",
    "dst = cv.warpAffine(img,M,(cols,rows))\n",
    "\n",
    "cv.imshow(\"img\", dst)\n",
    "cv.waitKey(0)\n",
    "cv.destroyAllWindows()"
   ]
  },
  {
   "cell_type": "code",
   "execution_count": null,
   "id": "d0acba86",
   "metadata": {},
   "outputs": [],
   "source": []
  }
 ],
 "metadata": {
  "kernelspec": {
   "display_name": "Python 3 (ipykernel)",
   "language": "python",
   "name": "python3"
  },
  "language_info": {
   "codemirror_mode": {
    "name": "ipython",
    "version": 3
   },
   "file_extension": ".py",
   "mimetype": "text/x-python",
   "name": "python",
   "nbconvert_exporter": "python",
   "pygments_lexer": "ipython3",
   "version": "3.11.5"
  }
 },
 "nbformat": 4,
 "nbformat_minor": 5
}
